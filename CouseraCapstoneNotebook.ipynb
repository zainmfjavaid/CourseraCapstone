{
 "cells": [
  {
   "cell_type": "markdown",
   "metadata": {},
   "source": [
    "# This Notebook will be used for the Capstone!"
   ]
  },
  {
   "cell_type": "code",
   "execution_count": 1,
   "metadata": {},
   "outputs": [],
   "source": [
    "import matplotlib.pyplot as plt\n",
    "import numpy as np\n",
    "import pandas as pd\n",
    "from sklearn import linear_model\n",
    "import warnings"
   ]
  },
  {
   "cell_type": "markdown",
   "metadata": {},
   "source": [
    "## Read Data in from a CSV"
   ]
  },
  {
   "cell_type": "code",
   "execution_count": 2,
   "metadata": {},
   "outputs": [
    {
     "name": "stderr",
     "output_type": "stream",
     "text": [
      "/Users/zainj/anaconda3/lib/python3.7/site-packages/IPython/core/interactiveshell.py:3049: DtypeWarning: Columns (33) have mixed types. Specify dtype option on import or set low_memory=False.\n",
      "  interactivity=interactivity, compiler=compiler, result=result)\n"
     ]
    }
   ],
   "source": [
    "data = pd.read_csv('/Users/zainj/Data-Collisions.csv')"
   ]
  },
  {
   "cell_type": "markdown",
   "metadata": {},
   "source": [
    "## Pull out specific attributes"
   ]
  },
  {
   "cell_type": "code",
   "execution_count": 3,
   "metadata": {},
   "outputs": [],
   "source": [
    "df = data[['WEATHER', 'ROADCOND', 'LIGHTCOND']]\n",
    "target = data['SEVERITYCODE']"
   ]
  },
  {
   "cell_type": "markdown",
   "metadata": {},
   "source": [
    "## Clean Data"
   ]
  },
  {
   "cell_type": "code",
   "execution_count": 4,
   "metadata": {},
   "outputs": [],
   "source": [
    "warnings.filterwarnings(\"ignore\")\n",
    "\n",
    "# Clean Weather Condition\n",
    "df['WEATHER'] = df['WEATHER'].replace(['Unknown', 'Other'], 0)\n",
    "df['WEATHER'] = df['WEATHER'].replace(['Clear'], 1)\n",
    "df['WEATHER'] = df['WEATHER'].replace(['Overcast', 'Partly Cloudy'], 2)\n",
    "df['WEATHER'] = df['WEATHER'].replace(['Raining'], 3)\n",
    "df['WEATHER'] = df['WEATHER'].replace(['Snowing', 'Sleet/Hail/Freezing Rain'], 4)\n",
    "df['WEATHER'] = df['WEATHER'].replace(['Blowing Sand/Dirt', 'Fog/Smog/Smoke', 'Severe Crosswind'], 5)\n",
    "df['WEATHER'] = df['WEATHER'].fillna(0)\n",
    "\n",
    "# Clean Road Condition\n",
    "df['ROADCOND'] = df['ROADCOND'].replace(['Unknown', 'Other'], 0)\n",
    "df['ROADCOND'] = df['ROADCOND'].replace(['Dry'], 1)\n",
    "df['ROADCOND'] = df['ROADCOND'].replace(['Wet'], 2)\n",
    "df['ROADCOND'] = df['ROADCOND'].replace(['Snow/Slush', 'Ice'], 3)\n",
    "df['ROADCOND'] = df['ROADCOND'].replace(['Sand/Mud/Dirt'], 4)\n",
    "df['ROADCOND'] = df['ROADCOND'].replace(['Oil', 'Standing Water'], 5)\n",
    "df['ROADCOND'] = df['ROADCOND'].fillna(0)\n",
    "\n",
    "# Clean Light Condition\n",
    "df['LIGHTCOND'] = df['LIGHTCOND'].replace(['Unknown', 'Other', 'Dark - Unknown Lighting'], 0)\n",
    "df['LIGHTCOND'] = df['LIGHTCOND'].replace(['Daylight', 'Dawn'], 1)\n",
    "df['LIGHTCOND'] = df['LIGHTCOND'].replace(['Dark - Street Lights On', 'Dusk'], 2)\n",
    "df['LIGHTCOND'] = df['LIGHTCOND'].replace(['Dark - Street Lights Off', 'Dark - No Street Lights'], 3)\n",
    "df['LIGHTCOND'] = df['LIGHTCOND'].fillna(0)"
   ]
  },
  {
   "cell_type": "markdown",
   "metadata": {},
   "source": [
    "## Print how correlated each attribute is to one another"
   ]
  },
  {
   "cell_type": "code",
   "execution_count": 5,
   "metadata": {},
   "outputs": [
    {
     "data": {
      "text/plain": [
       "'We can see that LIGHTCOND is the least correlated column to the others. This means that it should not be used \\nto train a model'"
      ]
     },
     "execution_count": 5,
     "metadata": {},
     "output_type": "execute_result"
    }
   ],
   "source": [
    "df.corr()\n",
    "\n",
    "'''We can see that LIGHTCOND is the least correlated column to the others. This means that it should not be used \n",
    "to train a model'''"
   ]
  },
  {
   "cell_type": "markdown",
   "metadata": {},
   "source": [
    "## Perform Linear Regression"
   ]
  },
  {
   "cell_type": "markdown",
   "metadata": {},
   "source": [
    "### Create two models, one predicts severity using weather conditions and the other uses road conditions"
   ]
  },
  {
   "cell_type": "code",
   "execution_count": 6,
   "metadata": {},
   "outputs": [],
   "source": [
    "Weather=pd.DataFrame(df['WEATHER'])\n",
    "Road=pd.DataFrame(df['ROADCOND'])\n",
    "\n",
    "lm = linear_model.LinearRegression()\n",
    "wm = lm.fit(X=Weather, y=target)\n",
    "rm = lm.fit(X=Road, y=target)"
   ]
  },
  {
   "cell_type": "markdown",
   "metadata": {},
   "source": [
    "### Score the two models"
   ]
  },
  {
   "cell_type": "code",
   "execution_count": 7,
   "metadata": {},
   "outputs": [
    {
     "name": "stdout",
     "output_type": "stream",
     "text": [
      "Weather Condition Based Model: 0.0020623380493153265\n",
      "Road Condition Based Model: 0.0092905931769669\n"
     ]
    }
   ],
   "source": [
    "print(f'Weather Condition Based Model: {wm.score(Weather, target)}')\n",
    "print(f'Road Condition Based Model: {rm.score(Road, target)}')"
   ]
  },
  {
   "cell_type": "code",
   "execution_count": null,
   "metadata": {},
   "outputs": [],
   "source": []
  }
 ],
 "metadata": {
  "kernelspec": {
   "display_name": "Python 3",
   "language": "python",
   "name": "python3"
  },
  "language_info": {
   "codemirror_mode": {
    "name": "ipython",
    "version": 3
   },
   "file_extension": ".py",
   "mimetype": "text/x-python",
   "name": "python",
   "nbconvert_exporter": "python",
   "pygments_lexer": "ipython3",
   "version": "3.7.3"
  }
 },
 "nbformat": 4,
 "nbformat_minor": 2
}
